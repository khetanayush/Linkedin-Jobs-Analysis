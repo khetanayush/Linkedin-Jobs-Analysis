{
 "cells": [
  {
   "cell_type": "code",
   "execution_count": null,
   "id": "c645c9a1",
   "metadata": {},
   "outputs": [],
   "source": [
    "from bs4 import BeautifulSoup\n",
    "import requests\n",
    "import gspread\n",
    "import pandas as pd\n",
    "from selenium import webdriver\n",
    "from selenium.webdriver.chrome.options import Options\n",
    "from selenium.webdriver.common.keys import Keys\n",
    "from selenium.webdriver.common.by import By\n",
    "from selenium.webdriver.chrome.service import Service\n",
    "from selenium.webdriver.support import select\n",
    "from selenium.webdriver.support.ui import WebDriverWait\n",
    "from selenium.webdriver.support import expected_conditions as ec\n",
    "from gspread_dataframe import set_with_dataframe\n",
    "import requests\n",
    "import selenium.webdriver as webdriver\n",
    "import time\n",
    "import numpy as np\n",
    "               "
   ]
  },
  {
   "cell_type": "code",
   "execution_count": null,
   "id": "8fd5c119",
   "metadata": {},
   "outputs": [],
   "source": [
    "s = Service(\"C:\\\\Users\\\\Admin\\\\Downloads\\\\DA TOOLS\\\\chromedriver.exe\")\n",
    "browser = webdriver.Chrome (service=s)\n",
    "browser.get ( \"https://www.linkedin.com \" )"
   ]
  },
  {
   "cell_type": "code",
   "execution_count": null,
   "id": "5764805d",
   "metadata": {},
   "outputs": [],
   "source": [
    "username = browser.find_element(\"id\", 'session_key' )\n",
    "username.send_keys ( \"aakhetan@gmail.com\" )\n",
    "password = browser.find_element(\"id\", \"session_password\" )\n",
    "password.send_keys ( \"khetanqwerty\" )"
   ]
  },
  {
   "cell_type": "code",
   "execution_count": null,
   "id": "d3208151",
   "metadata": {},
   "outputs": [],
   "source": [
    "login = browser.find_element(\"xpath\", '//*[@id=\"main-content\"]/section[1]/div/div/form[1]/div[2]/button' )\n",
    "login.click()"
   ]
  },
  {
   "cell_type": "code",
   "execution_count": null,
   "id": "eebef033",
   "metadata": {},
   "outputs": [],
   "source": [
    "jobs=[]\n",
    "location=[]\n",
    "company=[]\n",
    "followers=[]\n",
    "job_detail=[]\n",
    "empc_indus=[]\n",
    "inv_level=[]\n",
    "applicants=[]\n",
    "role=[]\n",
    "for i in range(0,976,25):\n",
    "    browser.get('https://www.linkedin.com/jobs/search/?currentJobId=3579663062&geoId=102713980&location=India&refresh=true&start='+str(i))\n",
    "    time.sleep(3)\n",
    "    l=[]\n",
    "    jobs_block=browser.find_elements(By.XPATH,\"//ul[@class='scaffold-layout__list-container']/li\")\n",
    "    for job in jobs_block:\n",
    "        browser.execute_script(\"arguments[0].scrollIntoView();\",job)\n",
    "        links=browser.find_elements('tag name','a')\n",
    "        time.sleep(3)    \n",
    "    for i in links:\n",
    "        l.append(i.get_attribute('href'))        \n",
    "    href=[]\n",
    "    for i in l:\n",
    "        if 'jobs/view' in i:\n",
    "            href.append(i)\n",
    "    href_final=set(href)\n",
    "    print(len(href_final))\n",
    "    count=0\n",
    "    for i in href_final:\n",
    "        browser.get(i)\n",
    "        browser.implicitly_wait(15)\n",
    "        count+=1\n",
    "        print(count,end=\" \")\n",
    "        try:\n",
    "            d=browser.find_element(\"xpath\",\"/html/body/div[5]/div[3]/div/div[1]/div[1]/div/section/section/div[1]/div[1]/div/div[2]/div[2]\")\n",
    "            followers.append(d.text)\n",
    "        except:\n",
    "            followers.append(np.nan)\n",
    "        try:\n",
    "            e=browser.find_element('xpath','/html/body/div[5]/div[3]/div/div[1]/div[1]/div/div[1]/div/div/div[1]/div[1]/span[2]/span[2]/span')\n",
    "            applicants.append(e.text)\n",
    "        except:\n",
    "            applicants.append(np.nan)    \n",
    "        try:\n",
    "            a=browser.find_element('xpath','/html/body/div[5]/div[3]/div/div[1]/div[1]/div/div[1]/div/div/div[1]/h1')\n",
    "            jobs.append(a.text)\n",
    "        except:\n",
    "            jobs.append(np.nan)\n",
    "        try:\n",
    "            b=browser.find_element('xpath','/html/body/div[5]/div[3]/div/div[1]/div[1]/div/div[1]/div/div/div[1]/div[1]/span[1]/span[2]')\n",
    "            location.append(b.text)\n",
    "        except:\n",
    "            location.append(np.nan)    \n",
    "        try:\n",
    "            c=browser.find_element('xpath','/html/body/div[5]/div[3]/div/div[1]/div[1]/div/div[1]/div/div/div[1]/div[1]/span[1]/span[1]/a')\n",
    "            company.append(c.text)\n",
    "        except:\n",
    "            company.append(np.nan)\n",
    "        try:\n",
    "            d=browser.find_element('xpath','/html/body/div[5]/div[3]/div/div[1]/div[1]/div/div[1]/div/div/div[1]/div[2]/ul/li[1]')\n",
    "            inv_level.append(d.text)\n",
    "        except:\n",
    "            inv_level.append(np.nan)\n",
    "        try:\n",
    "            g=browser.find_element('xpath','/html/body/div[5]/div[3]/div/div[1]/div[1]/div/div[1]/div/div/div[1]/div[2]/ul/li[2]')\n",
    "            empc_indus.append(g.text)\n",
    "        except:\n",
    "            empc_indus.append(np.nan)\n",
    "        try:\n",
    "            h=browser.find_element('id','job-details')\n",
    "            role.append(h.text)\n",
    "        except:\n",
    "            role.append(np.nan)\n",
    "                "
   ]
  },
  {
   "cell_type": "code",
   "execution_count": null,
   "id": "088d3513",
   "metadata": {},
   "outputs": [],
   "source": [
    "col=['Job Title','Location','Company','empc_indus','Followers','inv_level','Applicants','Role']\n",
    "df=pd.DataFrame({'Job Title':jobs,'Location':location,'Company':company,'Role':role,'empc_indus':empc_indus,'Followers':followers,'inv_level':inv_level,'Applicants':applicants})"
   ]
  },
  {
   "cell_type": "code",
   "execution_count": null,
   "id": "ad2c51c2",
   "metadata": {},
   "outputs": [],
   "source": [
    "df"
   ]
  },
  {
   "cell_type": "code",
   "execution_count": null,
   "id": "4675d0cf",
   "metadata": {},
   "outputs": [],
   "source": [
    "df.to_csv('Linkedin scrapped data.csv')"
   ]
  }
 ],
 "metadata": {
  "kernelspec": {
   "display_name": "Python 3 (ipykernel)",
   "language": "python",
   "name": "python3"
  },
  "language_info": {
   "codemirror_mode": {
    "name": "ipython",
    "version": 3
   },
   "file_extension": ".py",
   "mimetype": "text/x-python",
   "name": "python",
   "nbconvert_exporter": "python",
   "pygments_lexer": "ipython3",
   "version": "3.9.12"
  }
 },
 "nbformat": 4,
 "nbformat_minor": 5
}
